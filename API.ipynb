{
 "cells": [
  {
   "cell_type": "code",
   "execution_count": null,
   "id": "a297d44b",
   "metadata": {},
   "outputs": [],
   "source": [
    "import pandas as pd\n",
    "import json\n",
    "import requests\n",
    "\n",
    "df = pd.read_csv(\"prueba_1.csv\")\n",
    "df['ModifiedDate'] = pd.to_datetime(df['ModifiedDate'])\n",
    "min_date = df['ModifiedDate'].min()\n",
    "df['ModifiedDateDays'] = (df['ModifiedDate'] - min_date).dt.days\n",
    "\n",
    "useful_cols = ['CustomerID', 'CompanyName', 'SalesPerson', 'ModifiedDateDays']\n",
    "df_clean = df[useful_cols].copy()\n",
    "df_clean = pd.get_dummies(df_clean, columns=['CompanyName', 'SalesPerson'], drop_first=True)\n",
    "\n",
    "X_clean = df_clean.drop(columns='ModifiedDateDays')\n",
    "data_dict = X_clean.iloc[0].to_dict()"
   ]
  },
  {
   "cell_type": "code",
   "execution_count": 31,
   "id": "a6224502",
   "metadata": {},
   "outputs": [],
   "source": [
    "#Formateado para la API:\n",
    "data_json = json.dumps({\"data\": [data_dict]})\n",
    "\n",
    "suri = open(\"uri.json\", \"r\")\n",
    "scoring_uri = json.load(suri)[\"URI\"][0]\n",
    "suri.close()\n"
   ]
  },
  {
   "cell_type": "code",
   "execution_count": 32,
   "id": "fae7b118",
   "metadata": {},
   "outputs": [
    {
     "name": "stdout",
     "output_type": "stream",
     "text": [
      "[30.99999999961682]\n"
     ]
    }
   ],
   "source": [
    "## La API per-sé:\n",
    "\n",
    "headers = {\"Content-Type\": \"application/json\"}\n",
    "\n",
    "response = requests.post(scoring_uri, data=data_json, headers=headers)\n",
    "\n",
    "if response.status_code == 200:\n",
    "  result = json.loads(response.json())\n",
    "  print(result)\n",
    "\n",
    "else:\n",
    "  print(f\"Error: {response.text}\")"
   ]
  }
 ],
 "metadata": {
  "kernelspec": {
   "display_name": "azureml-env",
   "language": "python",
   "name": "python3"
  },
  "language_info": {
   "codemirror_mode": {
    "name": "ipython",
    "version": 3
   },
   "file_extension": ".py",
   "mimetype": "text/x-python",
   "name": "python",
   "nbconvert_exporter": "python",
   "pygments_lexer": "ipython3",
   "version": "3.8.20"
  }
 },
 "nbformat": 4,
 "nbformat_minor": 5
}
