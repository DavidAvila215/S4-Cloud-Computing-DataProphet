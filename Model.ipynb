{
 "cells": [
  {
   "cell_type": "code",
   "execution_count": 46,
   "id": "6aadd701",
   "metadata": {},
   "outputs": [
    {
     "name": "stdout",
     "output_type": "stream",
     "text": [
      "Connected to the Azure SQL Database successfully!\n"
     ]
    }
   ],
   "source": [
    "import pyodbc\n",
    "server = 'act4-server.database.windows.net'\n",
    "database = 'act4-database'\n",
    "username = 'stanford'\n",
    "password = 'Hola1234'\n",
    "\n",
    "# Define the connection string for SQL Server (Azure)\n",
    "conn_str = (\n",
    "    f'DRIVER={{ODBC Driver 18 for SQL Server}};'\n",
    "    f'SERVER={server};'\n",
    "    f'DATABASE={database};'\n",
    "    f'UID={username};'\n",
    "    f'PWD={password}'\n",
    ")\n",
    "\n",
    "# Establish the connection\n",
    "try:\n",
    "    conn = pyodbc.connect(conn_str)\n",
    "    print(\"Connected to the Azure SQL Database successfully!\")\n",
    "\n",
    "except pyodbc.Error as e:\n",
    "    print(f\"Error connecting to the database: {e}\")"
   ]
  },
  {
   "cell_type": "code",
   "execution_count": 10,
   "id": "1d78fb28",
   "metadata": {},
   "outputs": [
    {
     "name": "stderr",
     "output_type": "stream",
     "text": [
      "C:\\Users\\david\\AppData\\Local\\Temp\\ipykernel_20964\\2608267317.py:4: UserWarning: pandas only supports SQLAlchemy connectable (engine/connection) or database string URI or sqlite3 DBAPI2 connection. Other DBAPI2 objects are not tested. Please consider using SQLAlchemy.\n",
      "  df = pd.read_sql(query, conn)\n"
     ]
    },
    {
     "name": "stdout",
     "output_type": "stream",
     "text": [
      "   CustomerID  NameStyle Title FirstName MiddleName    LastName Suffix  \\\n",
      "0           1      False   Mr.   Orlando         N.         Gee   None   \n",
      "1           2      False   Mr.     Keith       None      Harris   None   \n",
      "2           3      False   Ms.     Donna         F.    Carreras   None   \n",
      "3           4      False   Ms.     Janet         M.       Gates   None   \n",
      "4           5      False   Mr.      Lucy       None  Harrington   None   \n",
      "\n",
      "                  CompanyName               SalesPerson  \\\n",
      "0                A Bike Store   adventure-works\\pamela0   \n",
      "1          Progressive Sports    adventure-works\\david8   \n",
      "2    Advanced Bike Components  adventure-works\\jillian0   \n",
      "3       Modular Cycle Systems  adventure-works\\jillian0   \n",
      "4  Metropolitan Sports Supply      adventure-works\\shu0   \n",
      "\n",
      "                   EmailAddress         Phone  \\\n",
      "0  orlando0@adventure-works.com  245-555-0173   \n",
      "1    keith0@adventure-works.com  170-555-0127   \n",
      "2    donna0@adventure-works.com  279-555-0130   \n",
      "3    janet1@adventure-works.com  710-555-0173   \n",
      "4     lucy0@adventure-works.com  828-555-0186   \n",
      "\n",
      "                                   PasswordHash PasswordSalt  \\\n",
      "0  L/Rlwxzp4w7RWmEgXX+/A7cXaePEPcp+KwQhl2fJL7w=     1KjXYs4=   \n",
      "1  YPdtRdvqeAhj6wyxEsFdshBDNXxkCXn+CRgbvJItknw=     fs1ZGhY=   \n",
      "2  LNoK27abGQo48gGue3EBV/UrlYSToV0/s87dCRV7uJk=     YTNH5Rw=   \n",
      "3  ElzTpSNbUW1Ut+L5cWlfR7MF6nBZia8WpmGaQPjLOJA=     nm7D5e4=   \n",
      "4  KJqV15wsX3PG8TS5GSddp6LFFVdd3CoRftZM/tP0+R4=     cNFKU4w=   \n",
      "\n",
      "                                rowguid ModifiedDate  \n",
      "0  3F5AE95E-B87D-4AED-95B4-C3797AFCB74F   2005-08-01  \n",
      "1  E552F657-A9AF-4A7D-A645-C429D6E02491   2006-08-01  \n",
      "2  130774B1-DB21-4EF3-98C8-C104BCD6ED6D   2005-09-01  \n",
      "3  FF862851-1DAA-4044-BE7C-3E85583C054D   2006-07-01  \n",
      "4  83905BDC-6F5E-4F71-B162-C98DA069F38A   2006-09-01  \n"
     ]
    }
   ],
   "source": [
    "import pandas as pd\n",
    "\n",
    "query = \"SELECT * FROM SalesLT.Customer\"\n",
    "df = pd.read_sql(query, conn)\n",
    "\n",
    "print(df.head())"
   ]
  },
  {
   "cell_type": "code",
   "execution_count": 11,
   "id": "983bca40",
   "metadata": {},
   "outputs": [
    {
     "data": {
      "text/plain": [
       "CustomerID               int64\n",
       "NameStyle                 bool\n",
       "Title                   object\n",
       "FirstName               object\n",
       "MiddleName              object\n",
       "LastName                object\n",
       "Suffix                  object\n",
       "CompanyName             object\n",
       "SalesPerson             object\n",
       "EmailAddress            object\n",
       "Phone                   object\n",
       "PasswordHash            object\n",
       "PasswordSalt            object\n",
       "rowguid                 object\n",
       "ModifiedDate    datetime64[ns]\n",
       "dtype: object"
      ]
     },
     "execution_count": 11,
     "metadata": {},
     "output_type": "execute_result"
    }
   ],
   "source": [
    "df.dtypes"
   ]
  },
  {
   "cell_type": "code",
   "execution_count": null,
   "id": "804826bd",
   "metadata": {},
   "outputs": [],
   "source": [
    "df['ModifiedDate'] = pd.to_datetime(df['ModifiedDate'])\n",
    "\n",
    "min_date = df['ModifiedDate'].min()\n",
    "df['ModifiedDateDays'] = (df['ModifiedDate'] - min_date).dt.days"
   ]
  },
  {
   "cell_type": "code",
   "execution_count": null,
   "id": "98cb517b",
   "metadata": {},
   "outputs": [
    {
     "name": "stdout",
     "output_type": "stream",
     "text": [
      "     CustomerID  CompanyName_A Cycle Shop  \\\n",
      "0             1                     False   \n",
      "1             2                     False   \n",
      "2             3                     False   \n",
      "3             4                     False   \n",
      "4             5                     False   \n",
      "..          ...                       ...   \n",
      "842       30113                     False   \n",
      "843       30115                     False   \n",
      "844       30116                     False   \n",
      "845       30117                     False   \n",
      "846       30118                     False   \n",
      "\n",
      "     CompanyName_A Great Bicycle Company  CompanyName_A Typical Bike Shop  \\\n",
      "0                                  False                            False   \n",
      "1                                  False                            False   \n",
      "2                                  False                            False   \n",
      "3                                  False                            False   \n",
      "4                                  False                            False   \n",
      "..                                   ...                              ...   \n",
      "842                                False                            False   \n",
      "843                                False                            False   \n",
      "844                                False                            False   \n",
      "845                                False                            False   \n",
      "846                                False                            False   \n",
      "\n",
      "     CompanyName_Acceptable Sales & Service  \\\n",
      "0                                     False   \n",
      "1                                     False   \n",
      "2                                     False   \n",
      "3                                     False   \n",
      "4                                     False   \n",
      "..                                      ...   \n",
      "842                                   False   \n",
      "843                                   False   \n",
      "844                                   False   \n",
      "845                                   False   \n",
      "846                                   False   \n",
      "\n",
      "     CompanyName_Action Bicycle Specialists  CompanyName_Active Life Toys  \\\n",
      "0                                     False                         False   \n",
      "1                                     False                         False   \n",
      "2                                     False                         False   \n",
      "3                                     False                         False   \n",
      "4                                     False                         False   \n",
      "..                                      ...                           ...   \n",
      "842                                   False                         False   \n",
      "843                                   False                         False   \n",
      "844                                   False                         False   \n",
      "845                                   False                         False   \n",
      "846                                   False                         False   \n",
      "\n",
      "     CompanyName_Active Systems  CompanyName_Advanced Bike Components  \\\n",
      "0                         False                                 False   \n",
      "1                         False                                 False   \n",
      "2                         False                                  True   \n",
      "3                         False                                 False   \n",
      "4                         False                                 False   \n",
      "..                          ...                                   ...   \n",
      "842                       False                                 False   \n",
      "843                       False                                 False   \n",
      "844                       False                                 False   \n",
      "845                       False                                 False   \n",
      "846                       False                                 False   \n",
      "\n",
      "     CompanyName_Aerobic Exercise Company  ...  CompanyName_Year-Round Sports  \\\n",
      "0                                   False  ...                          False   \n",
      "1                                   False  ...                          False   \n",
      "2                                   False  ...                          False   \n",
      "3                                   False  ...                          False   \n",
      "4                                   False  ...                          False   \n",
      "..                                    ...  ...                            ...   \n",
      "842                                 False  ...                          False   \n",
      "843                                 False  ...                          False   \n",
      "844                                 False  ...                          False   \n",
      "845                                 False  ...                          False   \n",
      "846                                 False  ...                          False   \n",
      "\n",
      "     CompanyName_Yellow Bicycle Company  SalesPerson_adventure-works\\garrett1  \\\n",
      "0                                 False                                 False   \n",
      "1                                 False                                 False   \n",
      "2                                 False                                 False   \n",
      "3                                 False                                 False   \n",
      "4                                 False                                 False   \n",
      "..                                  ...                                   ...   \n",
      "842                               False                                 False   \n",
      "843                               False                                 False   \n",
      "844                               False                                 False   \n",
      "845                               False                                 False   \n",
      "846                               False                                 False   \n",
      "\n",
      "     SalesPerson_adventure-works\\jae0  SalesPerson_adventure-works\\jillian0  \\\n",
      "0                               False                                 False   \n",
      "1                               False                                 False   \n",
      "2                               False                                  True   \n",
      "3                               False                                  True   \n",
      "4                               False                                 False   \n",
      "..                                ...                                   ...   \n",
      "842                              True                                 False   \n",
      "843                             False                                 False   \n",
      "844                             False                                 False   \n",
      "845                             False                                  True   \n",
      "846                             False                                  True   \n",
      "\n",
      "     SalesPerson_adventure-works\\josé1  SalesPerson_adventure-works\\linda3  \\\n",
      "0                                False                               False   \n",
      "1                                False                               False   \n",
      "2                                False                               False   \n",
      "3                                False                               False   \n",
      "4                                False                               False   \n",
      "..                                 ...                                 ...   \n",
      "842                              False                               False   \n",
      "843                               True                               False   \n",
      "844                              False                               False   \n",
      "845                              False                               False   \n",
      "846                              False                               False   \n",
      "\n",
      "     SalesPerson_adventure-works\\michael9  \\\n",
      "0                                   False   \n",
      "1                                   False   \n",
      "2                                   False   \n",
      "3                                   False   \n",
      "4                                   False   \n",
      "..                                    ...   \n",
      "842                                 False   \n",
      "843                                 False   \n",
      "844                                 False   \n",
      "845                                 False   \n",
      "846                                 False   \n",
      "\n",
      "     SalesPerson_adventure-works\\pamela0  SalesPerson_adventure-works\\shu0  \n",
      "0                                   True                             False  \n",
      "1                                  False                             False  \n",
      "2                                  False                             False  \n",
      "3                                  False                             False  \n",
      "4                                  False                              True  \n",
      "..                                   ...                               ...  \n",
      "842                                False                             False  \n",
      "843                                False                             False  \n",
      "844                                False                              True  \n",
      "845                                False                             False  \n",
      "846                                False                             False  \n",
      "\n",
      "[847 rows x 447 columns]\n"
     ]
    }
   ],
   "source": [
    "useful_cols = ['CustomerID', 'CompanyName', 'SalesPerson', 'ModifiedDateDays']\n",
    "df_clean = df[useful_cols].copy()\n",
    "\n",
    "df_clean = pd.get_dummies(df_clean, columns=['CompanyName', 'SalesPerson'], drop_first=True)\n",
    "\n",
    "X = df_clean.drop(columns='ModifiedDateDays')\n",
    "y = df_clean['ModifiedDateDays']\n",
    "print(X)"
   ]
  },
  {
   "cell_type": "code",
   "execution_count": 41,
   "id": "59c6e951",
   "metadata": {},
   "outputs": [
    {
     "name": "stdout",
     "output_type": "stream",
     "text": [
      "['CustomerID', 'CompanyName_A Cycle Shop', 'CompanyName_A Great Bicycle Company', 'CompanyName_A Typical Bike Shop', 'CompanyName_Acceptable Sales & Service', 'CompanyName_Action Bicycle Specialists', 'CompanyName_Active Life Toys', 'CompanyName_Active Systems', 'CompanyName_Advanced Bike Components', 'CompanyName_Aerobic Exercise Company', 'CompanyName_Affordable Sports Equipment', 'CompanyName_All Cycle Shop', 'CompanyName_All Seasons Sports Supply', 'CompanyName_Alpine Ski House', 'CompanyName_Alternative Vehicles', 'CompanyName_Another Bicycle Company', 'CompanyName_Another Sporting Goods Company', 'CompanyName_Area Bike Accessories', 'CompanyName_Area Sheet Metal Supply', 'CompanyName_Associated Bikes', 'CompanyName_Authentic Sales and Service', 'CompanyName_Authorized Bike Sales and Rental', 'CompanyName_Basic Bike Company', 'CompanyName_Basic Sports Equipment', 'CompanyName_Beneficial Exercises and Activities', \"CompanyName_Best o' Bikes\", 'CompanyName_Bicycle Accessories and Kits', 'CompanyName_Bicycle Lines Distributors', 'CompanyName_Bicycle Merchandise Warehouse', 'CompanyName_Big Cycle Mall', 'CompanyName_Big-Time Bike Store', 'CompanyName_Bike Dealers Association', 'CompanyName_Bike Experts', 'CompanyName_Bike Universe', 'CompanyName_Bike World', 'CompanyName_Bikes and Motorbikes', 'CompanyName_Bikes for Kids and Adults', 'CompanyName_Bikes for Two', 'CompanyName_Black Bicycle Company', 'CompanyName_Blue Bicycle Company', 'CompanyName_Bold Bike Accessories', 'CompanyName_Brakes and Gears', 'CompanyName_Brightwork Company', 'CompanyName_Brown Bicycle Company', 'CompanyName_Bulk Discount Store', 'CompanyName_Camping and Sports Store', 'CompanyName_Capable Sales and Service', 'CompanyName_Cash & Carry Bikes', 'CompanyName_Catalog Store', 'CompanyName_Center Cycle Shop', 'CompanyName_Central Bicycle Specialists', 'CompanyName_Central Discount Store', 'CompanyName_Certified Bicycle Supply', 'CompanyName_Certified Sports Supply', 'CompanyName_Channel Outlet', 'CompanyName_Chic Department Stores', 'CompanyName_City Cycling', 'CompanyName_City Manufacturing', 'CompanyName_Citywide Service and Repair', 'CompanyName_Client Discount Store', 'CompanyName_Closeout Boutique', 'CompanyName_Closest Bicycle Store', 'CompanyName_Coalition Bike Company', 'CompanyName_Coho Sports', 'CompanyName_Commendable Bikes', 'CompanyName_Commerce Bicycle Specialists', 'CompanyName_Commercial Sporting Goods', 'CompanyName_Commuter Bicycle Store', 'CompanyName_Consolidated Messenger', 'CompanyName_Consumer Equipment', 'CompanyName_Contoso, Ltd.', 'CompanyName_Convenient Sales and Service', 'CompanyName_Corner Bicycle Supply', 'CompanyName_Countryside Company', 'CompanyName_Courteous Bicycle Specialists', 'CompanyName_Cross-Country Riding Supplies', 'CompanyName_Curbside Sporting Goods', 'CompanyName_Custom Accessories Company', 'CompanyName_Custom Sales and Service', 'CompanyName_Cycle Clearance', 'CompanyName_Cycle Merchants', 'CompanyName_Cycles Wholesaler & Mfg.', 'CompanyName_Cycling Goods', 'CompanyName_Demand Distributors', 'CompanyName_Designated Distributors', 'CompanyName_Designer Department Stores', 'CompanyName_Discount Bicycle Specialists', 'CompanyName_Discount Tours', 'CompanyName_Distant Inn', 'CompanyName_Distinctive Store', 'CompanyName_District Mall', 'CompanyName_Downhill Bicycle Specialists', 'CompanyName_Downtown Hotel', 'CompanyName_Eastside Department Store', 'CompanyName_Eastside Parts Shop', 'CompanyName_Economy Bikes Company', 'CompanyName_Economy Center', 'CompanyName_Efficient Cycling', 'CompanyName_Eighth Bike Store', 'CompanyName_Elite Bikes', 'CompanyName_Engineered Bike Systems', 'CompanyName_Essential Bike Works', 'CompanyName_Exceptional Cycle Services', 'CompanyName_Exclusive Bicycle Mart', 'CompanyName_Exercise Center', 'CompanyName_Exertion Activities Club', 'CompanyName_Exhibition Showroom', 'CompanyName_Exhilarating Cycles', 'CompanyName_Express Bike Services', 'CompanyName_Extended Bike Sales', 'CompanyName_Extended Tours', 'CompanyName_Extraordinary Bike Works', 'CompanyName_Extras Sporting Goods', 'CompanyName_Extreme Riding Supplies', 'CompanyName_Fabrikam Inc., West', 'CompanyName_Fad Outlet', 'CompanyName_Family Cycle Store', 'CompanyName_Family Entertainment Center', \"CompanyName_Family's Favorite Bike Shop\", 'CompanyName_Famous Bike Shop', 'CompanyName_Farthermost Bike Shop', 'CompanyName_Farthest Bike Store', 'CompanyName_Fashionable Bikes and Accessories', 'CompanyName_Fasteners & Bolts Outlet', 'CompanyName_Field Trip Inc', 'CompanyName_Field Trip Store', 'CompanyName_Fifth Bike Store', 'CompanyName_Finer Cycle Shop', 'CompanyName_Finer Mart', 'CompanyName_Finer Parts Shop', 'CompanyName_Finer Riding Supplies', 'CompanyName_Finer Sales and Service', 'CompanyName_Finish and Sealant Products', 'CompanyName_First Bike Store', 'CompanyName_First Cycle Store', 'CompanyName_First Department Stores', 'CompanyName_First-Rate Outlet', 'CompanyName_Fitness Cycling', 'CompanyName_Fitness Department Stores', 'CompanyName_Fitness Hotel', 'CompanyName_Fitness Supplies', 'CompanyName_Fitness Toy Store', 'CompanyName_Flawless Bike Shop', 'CompanyName_Fleet Bikes', 'CompanyName_Friendly Bike Shop', 'CompanyName_Friendly Neighborhood Bikes', 'CompanyName_Front Sporting Goods', 'CompanyName_Frugal Bike Shop', 'CompanyName_Full-Service Bike Store', 'CompanyName_Fun Times Club', 'CompanyName_Fun Toys and Bikes', 'CompanyName_Future Bikes', 'CompanyName_Futuristic Bikes', 'CompanyName_Futuristic Sport Distributors', 'CompanyName_Gasless Cycle Shop', 'CompanyName_Gear-Shift Bikes Limited', 'CompanyName_General Bike Corporation', 'CompanyName_General Cycle Storehouse', 'CompanyName_General Department Stores', 'CompanyName_General Industries', 'CompanyName_General Riding Supplies', 'CompanyName_General Supplies', 'CompanyName_Genial Bike Associates', 'CompanyName_Genuine Bike Shop', 'CompanyName_Gift and Toy Store', 'CompanyName_Global Sporting Goods', 'CompanyName_Go-cart and Bike Specialists', 'CompanyName_Golf and Cycle Store', 'CompanyName_Good Bike Shop', 'CompanyName_Good Toys', 'CompanyName_Grand Bicycle Stores', 'CompanyName_Grand Cycle Store', 'CompanyName_Grand Industries', 'CompanyName_Grand Sport Boutique', 'CompanyName_Grease and Oil Products Company', 'CompanyName_Great Bicycle Supply', 'CompanyName_Great Bikes ', 'CompanyName_Greater Bike Store', 'CompanyName_Handy Bike Services', 'CompanyName_Hardware Components', 'CompanyName_Health Spa, Limited', 'CompanyName_Healthy Activity Store', 'CompanyName_Highway Bike Shop', 'CompanyName_Historic Bicycle Sales', 'CompanyName_Home Town Bike Store', 'CompanyName_Honest Repair Service', 'CompanyName_Imaginary Toys', 'CompanyName_Immense Manufacturing Company', 'CompanyName_Imported and Domestic Cycles', 'CompanyName_Impromptu Trips', 'CompanyName_Initial Bike Company', 'CompanyName_Instruments and Parts Company', 'CompanyName_Journey Sporting Goods', 'CompanyName_Kickstand Sellers', 'CompanyName_Kickstands and Accessories Company', 'CompanyName_Large Bike Shop', 'CompanyName_Largest Bike Store', 'CompanyName_Latest Accessories Sales', 'CompanyName_Latest Sports Equipment', 'CompanyName_Leading Sales & Repair', 'CompanyName_Leather Seat Factory', 'CompanyName_Leisure Activities', 'CompanyName_Leisure Clearing House', 'CompanyName_Little Bicycle Supply Shop', 'CompanyName_Little Sports Center', 'CompanyName_Local Hardware Factory', 'CompanyName_Local Sales and Rental', 'CompanyName_Locks Company', 'CompanyName_Lots of Bikes Storehouse', 'CompanyName_Low Price Cycles', 'CompanyName_Machines & Cycles Store', 'CompanyName_Mail Market', 'CompanyName_Mail-Order Outlet', 'CompanyName_Main Bicycle Services', 'CompanyName_Maintenance and Repair for Bicycles', 'CompanyName_Major Cycling', 'CompanyName_Major Sport Suppliers', 'CompanyName_Major Sporting Goods', 'CompanyName_Many Bikes Store', 'CompanyName_Mechanical Products Ltd.', 'CompanyName_Mercantile Outlet', 'CompanyName_Metal Clearing House', 'CompanyName_Metal Processing Company', 'CompanyName_Metallic Paint and Overcoat Co', 'CompanyName_Metro Bike Works', 'CompanyName_Metro Cycle Shop', 'CompanyName_Metro Manufacturing', 'CompanyName_Metro Metals Co.', 'CompanyName_Metropolitan Bicycle Supply', 'CompanyName_Metropolitan Manufacturing', 'CompanyName_Metropolitan Sports Supply', 'CompanyName_Moderately-Priced Bikes Store', 'CompanyName_Modular Cycle Systems', 'CompanyName_More Bikes!', 'CompanyName_Mountain Bike Center', 'CompanyName_Mountain Toy Store', 'CompanyName_National Manufacturing', 'CompanyName_Nearby Cycle Shop', 'CompanyName_Nearby Sporting Goods', 'CompanyName_Neighborhood Store', 'CompanyName_Nice Bikes', 'CompanyName_Non-Slip Pedal Company', 'CompanyName_Nonskid Tire Company', 'CompanyName_Novelty Bikes', 'CompanyName_Number 1 Supply', 'CompanyName_Number One Bike Co.', 'CompanyName_Nuts and Bolts Mfg.', 'CompanyName_Odometers and Accessories Company', 'CompanyName_Official Parts Shop', 'CompanyName_Oils and Fluids Warehouse', 'CompanyName_One Bike Company', 'CompanyName_Online Bike Sellers', 'CompanyName_Online Bike Warehouse', 'CompanyName_Operational Manufacturing', 'CompanyName_Orange Bicycle Company', 'CompanyName_Original Bicycle Supply Company', 'CompanyName_Our Sporting Goods Store', 'CompanyName_Out-of-the-Way Hotels', 'CompanyName_Outdoor Aerobic Systems Company', 'CompanyName_Outdoor Sporting Goods', 'CompanyName_Outdoor Sports Supply', 'CompanyName_Outstanding Cycles', 'CompanyName_Paint Supply', 'CompanyName_Paints and Solvents Company', 'CompanyName_Parcel Express Delivery Service', 'CompanyName_Permanent Finish Products', 'CompanyName_Petroleum Products Distributors', 'CompanyName_Plastic Parts Company', 'CompanyName_Practical Bike Supply Company', 'CompanyName_Preferred Bikes', 'CompanyName_Price-Cutter Discount Bikes', 'CompanyName_Primary Bike Distributors', 'CompanyName_Principal Bike Company', 'CompanyName_Pro Sporting Goods', 'CompanyName_Professional Containers and Packaging Co.', 'CompanyName_Professional Cycle Store', 'CompanyName_Professional Cyclists', 'CompanyName_Professional Sales and Service', 'CompanyName_Progressive Sports', 'CompanyName_Prosperous Tours', 'CompanyName_Purple Bicycle Company', 'CompanyName_Quantity Discounts', 'CompanyName_Quick Delivery Service', 'CompanyName_Quick Parts and Service', 'CompanyName_Racing Bike Outlet', 'CompanyName_Racing Partners', 'CompanyName_Racing Toys', 'CompanyName_Rally Master Company Inc', 'CompanyName_Rampart Amusement Company', 'CompanyName_Rapid Bikes', 'CompanyName_Raw Materials Inc', 'CompanyName_Real Sporting Goods', 'CompanyName_Reasonable Bicycle Sales', 'CompanyName_Recommended Bicycles', 'CompanyName_Red Bicycle Company', 'CompanyName_Refined Department Stores', 'CompanyName_Regional Manufacturing', 'CompanyName_Reliable Retail Center', 'CompanyName_Remarkable Bike Store', 'CompanyName_Remote Bicycle Specialists', 'CompanyName_Rental Bikes', 'CompanyName_Requisite Part Supply', 'CompanyName_Resale Services', 'CompanyName_Responsible Bike Dealers', 'CompanyName_Retail Cycle Shop', 'CompanyName_Retail Discount Store', 'CompanyName_Retail Mall', 'CompanyName_Retail Sporting Equipment', 'CompanyName_Retail Sporting Goods', 'CompanyName_Retreat Inn', 'CompanyName_Rewarding Activities Company', 'CompanyName_Riders Company', 'CompanyName_Riding Associates', 'CompanyName_Riding Cycles', 'CompanyName_Riding Excursions', 'CompanyName_Road Way Sales and Rental', 'CompanyName_Road-Way Mart', 'CompanyName_Roadway Bike Emporium', 'CompanyName_Roadway Supplies', 'CompanyName_Roving Sports', 'CompanyName_Rugged Bikes', 'CompanyName_Running and Cycling Gear', 'CompanyName_Rural Bicycle Supply', 'CompanyName_Rural Cycle Emporium', 'CompanyName_Rural Department Store', 'CompanyName_Rural Sales and Service', 'CompanyName_Safe Cycles Shop', 'CompanyName_Safe Toys', 'CompanyName_Sample Bike Store', 'CompanyName_Satin Finish Company', 'CompanyName_Scooters and Bikes Store', 'CompanyName_Scratch-Resistant Finishes Company', 'CompanyName_Seats and Saddles Company', 'CompanyName_Security Racks and Locks Wholesalers', 'CompanyName_Sellers of Cycles', 'CompanyName_Separate Parts Corporation', 'CompanyName_Serious Cycles', 'CompanyName_Sharp Bikes', 'CompanyName_Sheet Metal Manufacturing', 'CompanyName_Shipping Specialists', 'CompanyName_Sixth Bike Store', 'CompanyName_Sleek Bikes ', 'CompanyName_Small Bike Shop', 'CompanyName_Small Cycle Store', 'CompanyName_Social Activities Club', 'CompanyName_Solid Bike Parts', 'CompanyName_Some Discount Store', 'CompanyName_South Bike Company', 'CompanyName_Sparkling Paint and Finishes', 'CompanyName_Specialty Sports Store', 'CompanyName_Sports Commodities', 'CompanyName_Sports Merchandise', 'CompanyName_Sports Products Store', 'CompanyName_Sports Store', 'CompanyName_Standard Bikes', 'CompanyName_Stationary Bikes and Stands', 'CompanyName_Stock Parts and Supplies', 'CompanyName_Strenuous Exercise Shop', 'CompanyName_Sturdy Toys', 'CompanyName_Suburban Cycle Shop', 'CompanyName_Successful Sales Company', 'CompanyName_Summer Sports Place', 'CompanyName_Sundry Sporting Goods', 'CompanyName_Superb Sales and Repair', 'CompanyName_Superior Hardware Distributors', 'CompanyName_Sure & Reliable Sporting Goods', 'CompanyName_Swift Cycles', 'CompanyName_Synthetic Materials Manufacturing', 'CompanyName_Systematic Sales', 'CompanyName_Tachometers and Accessories', 'CompanyName_Tandem Sales and Service', 'CompanyName_Technical Parts Manufacturing', 'CompanyName_Tenth Bike Store', 'CompanyName_The Accessories Store', 'CompanyName_The Bicycle Accessories Company', 'CompanyName_The Bike Shop', 'CompanyName_The Commissary', 'CompanyName_The Gear Store', 'CompanyName_The New Bike Store', 'CompanyName_The Showroom', 'CompanyName_Third Bike Store', 'CompanyName_This Area Sporting Goods', 'CompanyName_Thorough Parts and Repair Services', 'CompanyName_Thrifty Parts and Sales', 'CompanyName_Thrilling Bike Tours', 'CompanyName_Timely Shipping Service', 'CompanyName_Tire Exchange', 'CompanyName_Tires and Tubes', 'CompanyName_Top Bike Market', 'CompanyName_Top Sports Supply', 'CompanyName_Totes & Baskets Company', 'CompanyName_Town Industries', 'CompanyName_Toy Manufacturing Inc', 'CompanyName_Traction Tire Company', 'CompanyName_Trailblazing Sports', 'CompanyName_Transport Bikes', 'CompanyName_Transportation Options', 'CompanyName_Travel Sports', 'CompanyName_Travel Systems', 'CompanyName_Trendy Department Stores', 'CompanyName_Tubeless Tire Company', 'CompanyName_Twelfth Bike Store', 'CompanyName_Two Bike Shops', 'CompanyName_Two Wheels Cycle Store', 'CompanyName_Two-Seater Bikes', 'CompanyName_Two-Wheeled Transit Company', 'CompanyName_Unicycles, Bicycles, and Tricycles', 'CompanyName_Unique Bikes', 'CompanyName_Unsurpassed Bikes', 'CompanyName_Up-To-Date Sports', 'CompanyName_Urban Sports Emporium', 'CompanyName_Utilitarian Sporting Goods', 'CompanyName_Uttermost Bike Shop', 'CompanyName_Vale Riding Supplies', 'CompanyName_Valley Bicycle Distributors', 'CompanyName_Valley Bicycle Specialists', 'CompanyName_Valley Toy Store', 'CompanyName_Variety Cycling', 'CompanyName_Vast Bike Sales and Rental', 'CompanyName_Vehicle Shop', 'CompanyName_Vigorous Exercise Company', 'CompanyName_Vigorous Sports Store', 'CompanyName_Vintage Sport Boutique', 'CompanyName_Vinyl and Plastic Goods Corporation', 'CompanyName_Weekend Bike Tours', 'CompanyName_West Side Mart', 'CompanyName_Western Bike Supplies', 'CompanyName_Westside Cycle Store', 'CompanyName_Westside Plaza', 'CompanyName_Wheel Gallery', 'CompanyName_Wholesale Parts', 'CompanyName_Wingtip Toys', 'CompanyName_Wire Baskets and Parts', 'CompanyName_Work and Play Association', 'CompanyName_Workout Emporium', 'CompanyName_World Bike Discount Store', 'CompanyName_World of Bikes', 'CompanyName_Year-Round Sports', 'CompanyName_Yellow Bicycle Company', 'SalesPerson_adventure-works\\\\garrett1', 'SalesPerson_adventure-works\\\\jae0', 'SalesPerson_adventure-works\\\\jillian0', 'SalesPerson_adventure-works\\\\josé1', 'SalesPerson_adventure-works\\\\linda3', 'SalesPerson_adventure-works\\\\michael9', 'SalesPerson_adventure-works\\\\pamela0', 'SalesPerson_adventure-works\\\\shu0']\n"
     ]
    }
   ],
   "source": [
    "print(X.columns.tolist())\n"
   ]
  },
  {
   "cell_type": "code",
   "execution_count": 14,
   "id": "12cc6b23",
   "metadata": {},
   "outputs": [],
   "source": [
    "df_clean.to_csv('cleaned_data.csv', index=False)"
   ]
  },
  {
   "cell_type": "code",
   "execution_count": 15,
   "id": "c524a7ae",
   "metadata": {},
   "outputs": [
    {
     "name": "stdout",
     "output_type": "stream",
     "text": [
      "R2 Score: 0.7013708114407509\n",
      "RMSE: 171.4463192754163\n"
     ]
    }
   ],
   "source": [
    "from sklearn.model_selection import train_test_split\n",
    "from sklearn.linear_model import LinearRegression\n",
    "from sklearn.metrics import r2_score, mean_squared_error\n",
    "\n",
    "X_train, X_test, y_train, y_test = train_test_split(X, y, test_size=0.2, random_state=42)\n",
    "\n",
    "model = LinearRegression()\n",
    "model.fit(X_train, y_train)\n",
    "\n",
    "y_pred = model.predict(X_test)\n",
    "print(\"R2 Score:\", r2_score(y_test, y_pred))\n",
    "print(\"RMSE:\", mean_squared_error(y_test, y_pred, squared=False))\n"
   ]
  },
  {
   "cell_type": "code",
   "execution_count": 16,
   "id": "1a2d4f45",
   "metadata": {},
   "outputs": [
    {
     "data": {
      "text/plain": [
       "['model.pkl']"
      ]
     },
     "execution_count": 16,
     "metadata": {},
     "output_type": "execute_result"
    }
   ],
   "source": [
    "import joblib\n",
    "\n",
    "joblib.dump(model, 'model.pkl')\n"
   ]
  },
  {
   "cell_type": "code",
   "execution_count": null,
   "id": "f4c26f60",
   "metadata": {},
   "outputs": [
    {
     "name": "stderr",
     "output_type": "stream",
     "text": [
      "UserWarning: The resource group doesn't exist or was not provided. AzureML SDK is creating a resource group=resource_group2 in location=centralindia using subscription=f7573334-1f4f-4ce7-9b75-ce1f32e6bd37.\n"
     ]
    },
    {
     "name": "stdout",
     "output_type": "stream",
     "text": [
      "Cleaning up past default Resource Group Deployments on the subscription to avoid limit of 10\n",
      "Deleting past Resource Group Deployment with name: DeployResourceGroup-9a4e997089\n",
      "Deploying KeyVault with name workspackeyvault5b835795.\n",
      "Deploying StorageAccount with name workspacstorage1aad7460c.\n",
      "Deploying Workspace with name workspace.\n",
      "Deploying AppInsights with name workspacinsights310f2769.\n",
      "Deployed AppInsights with name workspacinsights310f2769. Took 36.64 seconds.\n",
      "Deployed Workspace with name workspace. Took 41.87 seconds.\n",
      "Registering model model\n"
     ]
    }
   ],
   "source": [
    "\n",
    "\n",
    "from azureml.core import Workspace\n",
    "\n",
    "ws = Workspace.create(name=\"workspace\",\n",
    "                      subscription_id = \"f7573334-1f4f-4ce7-9b75-ce1f32e6bd37\",\n",
    "                      resource_group = \"resource_group2\",\n",
    "                      location = \"centralindia\")\n",
    "\n",
    "from azureml.core.model import Model\n",
    "\n",
    "mname = \"model\"\n",
    "registered_model = Model.register(model_path=\"model.pkl\",\n",
    "                                  model_name=mname,\n",
    "                                  workspace=ws)"
   ]
  },
  {
   "cell_type": "code",
   "execution_count": 34,
   "id": "a1e41c2e",
   "metadata": {},
   "outputs": [
    {
     "name": "stdout",
     "output_type": "stream",
     "text": [
      "Registering model model\n"
     ]
    }
   ],
   "source": [
    "\n",
    "\n",
    "from azureml.core import Workspace\n",
    "\n",
    "ws = Workspace.get(name=\"workspace\",\n",
    "                      subscription_id = \"f7573334-1f4f-4ce7-9b75-ce1f32e6bd37\",\n",
    "                      resource_group = \"resource_group2\",\n",
    "                      location = \"centralindia\")\n",
    "\n",
    "from azureml.core.model import Model\n",
    "\n",
    "mname = \"model\"\n",
    "registered_model = Model.register(model_path=\"model.pkl\",\n",
    "                                  model_name=mname,\n",
    "                                  workspace=ws)"
   ]
  },
  {
   "cell_type": "code",
   "execution_count": null,
   "id": "fce6d648",
   "metadata": {},
   "outputs": [],
   "source": [
    "scorepy = \"\"\"\n",
    "import json\n",
    "import joblib\n",
    "import pandas as pd\n",
    "from azureml.core.model import Model\n",
    "\n",
    "def init():\n",
    "    global model\n",
    "    model_path = Model.get_model_path(\"model\")\n",
    "    model = joblib.load(model_path)\n",
    "\n",
    "def run(raw_data):\n",
    "    try:\n",
    "        data = json.loads(raw_data)['data']\n",
    "        df = pd.DataFrame(data)\n",
    "        preds = model.predict(df).tolist()\n",
    "        return json.dumps(preds)\n",
    "    except Exception as e:\n",
    "        return json.dumps({\"error\": str(e)})\n",
    "\"\"\"\n",
    "\n",
    "# Write to file\n",
    "file_score = open(\"score.py\", \"w\")\n",
    "file_score.write(scorepy)\n",
    "file_score.close()\n"
   ]
  },
  {
   "cell_type": "code",
   "execution_count": 39,
   "id": "14feed94",
   "metadata": {},
   "outputs": [
    {
     "name": "stderr",
     "output_type": "stream",
     "text": [
      "C:\\Users\\david\\AppData\\Local\\Temp\\ipykernel_20964\\2341112701.py:18: FutureWarning: azureml.core.model:\n",
      "To leverage new model deployment capabilities, AzureML recommends using CLI/SDK v2 to deploy models as online endpoint, \n",
      "please refer to respective documentations \n",
      "https://docs.microsoft.com/azure/machine-learning/how-to-deploy-managed-online-endpoints /\n",
      "https://docs.microsoft.com/azure/machine-learning/how-to-attach-kubernetes-anywhere \n",
      "For more information on migration, see https://aka.ms/acimoemigration \n",
      "To disable CLI/SDK v1 deprecation warning set AZUREML_LOG_DEPRECATION_WARNING_ENABLED to 'False'\n",
      "  service = Model.deploy(\n"
     ]
    }
   ],
   "source": [
    "from azureml.core.environment import Environment\n",
    "from azureml.core.conda_dependencies import CondaDependencies\n",
    "from azureml.core.model import InferenceConfig, Model\n",
    "from azureml.core.webservice import AciWebservice\n",
    "\n",
    "virtual_env = Environment(\"env-for-regression\")\n",
    "virtual_env.python.conda_dependencies = CondaDependencies.create(\n",
    "    conda_packages=[\"pandas\", \"scikit-learn\", \"joblib\"]\n",
    ")\n",
    "\n",
    "inference_config = InferenceConfig(\n",
    "    environment=virtual_env,\n",
    "    entry_script=\"score.py\"   \n",
    ")\n",
    "\n",
    "aci_config = AciWebservice.deploy_configuration(cpu_cores=0.5, memory_gb=1)\n",
    "\n",
    "service = Model.deploy(\n",
    "    workspace=ws,\n",
    "    name=\"regression-service\",\n",
    "    models=[registered_model],\n",
    "    inference_config=inference_config,\n",
    "    deployment_config=aci_config,\n",
    "    overwrite=True\n",
    ")\n",
    "\n"
   ]
  },
  {
   "cell_type": "code",
   "execution_count": 40,
   "id": "9ccc90aa",
   "metadata": {},
   "outputs": [
    {
     "name": "stdout",
     "output_type": "stream",
     "text": [
      "Tips: You can try get_logs(): https://aka.ms/debugimage#dockerlog or local deployment: https://aka.ms/debugimage#debug-locally to debug if deployment takes longer than 10 minutes.\n",
      "Running\n",
      "2025-04-23 18:30:17-06:00 Creating Container Registry if not exists.\n",
      "2025-04-23 18:30:17-06:00 Registering the environment.\n",
      "2025-04-23 18:30:18-06:00 Use the existing image.\n",
      "2025-04-23 18:30:18-06:00 Generating deployment configuration.\n",
      "2025-04-23 18:30:19-06:00 Submitting deployment to compute.\n",
      "2025-04-23 18:30:22-06:00 Checking the status of deployment regression-service..\n",
      "2025-04-23 18:32:57-06:00 Checking the status of inference endpoint regression-service.\n",
      "Succeeded\n",
      "ACI service creation operation finished, operation \"Succeeded\"\n"
     ]
    }
   ],
   "source": [
    "service.wait_for_deployment(show_output=True)\n"
   ]
  }
 ],
 "metadata": {
  "kernelspec": {
   "display_name": "azureml-env",
   "language": "python",
   "name": "python3"
  },
  "language_info": {
   "codemirror_mode": {
    "name": "ipython",
    "version": 3
   },
   "file_extension": ".py",
   "mimetype": "text/x-python",
   "name": "python",
   "nbconvert_exporter": "python",
   "pygments_lexer": "ipython3",
   "version": "3.8.20"
  }
 },
 "nbformat": 4,
 "nbformat_minor": 5
}
